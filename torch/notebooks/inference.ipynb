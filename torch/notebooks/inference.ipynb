{
 "cells": [
  {
   "cell_type": "code",
   "execution_count": 1,
   "id": "fc2d8867-a327-4340-a824-832696e12b1e",
   "metadata": {},
   "outputs": [
    {
     "name": "stderr",
     "output_type": "stream",
     "text": [
      "/data1/miniconda3/envs/dce/lib/python3.10/site-packages/mmcv/cnn/bricks/transformer.py:33: UserWarning: Fail to import ``MultiScaleDeformableAttention`` from ``mmcv.ops.multi_scale_deform_attn``, You should install ``mmcv-full`` if you need this module. \n",
      "  warnings.warn('Fail to import ``MultiScaleDeformableAttention`` from '\n"
     ]
    }
   ],
   "source": [
    "import matplotlib\n",
    "%matplotlib inline\n",
    "import matplotlib.patches as patches\n",
    "import matplotlib.pyplot as plt\n",
    "import matplotlib.cm as cm\n",
    "import vlkit.plt as vlplt\n",
    "\n",
    "from scipy.stats import beta\n",
    "\n",
    "import torch\n",
    "from torch.distributions import Beta\n",
    "import numpy as np\n",
    "from mmcv.cnn import MODELS\n",
    "from mmcv.utils import Config\n",
    "\n",
    "from tqdm import tqdm\n",
    "from einops import rearrange\n",
    "\n",
    "import mmcv\n",
    "from vlkit.image import norm01, norm255\n",
    "from vlkit.medical.dicomio import read_dicom_array\n",
    "\n",
    "from scipy.io import loadmat, savemat\n",
    "import pydicom\n",
    "\n",
    "import time, sys, os\n",
    "import os.path as osp\n",
    "sys.path.insert(0, '/data1/Code/vlkit/vlkit/medical')\n",
    "sys.path.insert(0, '..')\n",
    "\n",
    "from utils import write_dicom, write_dicom, inference\n",
    "from aif import get_aif\n",
    "from pharmacokinetic import fit_slice, process_patient, np2torch, evaluate_curve\n",
    "import load_dce\n",
    "from models import DCETransformer\n",
    "\n",
    "from pharmacokinetic import calculate_reconstruction_loss"
   ]
  },
  {
   "cell_type": "code",
   "execution_count": 2,
   "id": "77eb57d9",
   "metadata": {},
   "outputs": [],
   "source": [
    "def remove_grad(x):\n",
    "    x = x.detach()\n",
    "    x.requires_grad = False\n",
    "    x.grad = None\n",
    "    return x"
   ]
  },
  {
   "cell_type": "code",
   "execution_count": 3,
   "id": "35245454",
   "metadata": {},
   "outputs": [],
   "source": [
    "np.random.seed(0)\n",
    "mmcv.runner.utils.set_random_seed(0)"
   ]
  },
  {
   "cell_type": "code",
   "execution_count": 4,
   "id": "16b6da45-f1a5-47a8-993e-a7778fd995e4",
   "metadata": {},
   "outputs": [],
   "source": [
    "device = torch.device('cuda')\n",
    "dce_data = load_dce.load_dce_data('../../dicom/10042_1_003Tnq2B/20180212/t1_twist_tra_dyn_29/', device=device)\n",
    "t2 = read_dicom_array('../../dicom/10042_1_003Tnq2B/20180212/t2_tse_tra_320_p2_12/')\n",
    "data = loadmat('../../tmp/parker_aif/10042_1_003Tnq2B-20180212.mat')\n",
    "h, w, c, _ = data['dce_ct'].shape\n",
    "\n",
    "x_tl, y_tl, x_br, y_br = 53, 57, 107, 110\n",
    "mask = torch.zeros(h, w, c, dtype=bool, device=device)\n",
    "z_mask = torch.zeros(c, dtype=bool, device=device)\n",
    "z_mask[10] = True\n",
    "mask[y_tl:y_br, x_tl:x_br, z_mask] = 1\n",
    "plt.imshow(mask[:, :, 10].cpu())\n",
    "plt.close()"
   ]
  },
  {
   "cell_type": "code",
   "execution_count": 4,
   "id": "6a3d3c30",
   "metadata": {},
   "outputs": [],
   "source": [
    "device = torch.device('cuda')\n",
    "dce_data = load_dce.load_dce_data('../../dicom/10042_1_004D6Sy8/20160616/t1_twist_tra_dyn_35/', device=device)\n",
    "t2 = read_dicom_array('../../dicom/10042_1_004D6Sy8/20160616/t2_tse_tra_320_p2_4/')\n",
    "data = loadmat('../../tmp/parker_aif/10042_1_004D6Sy8-20160616.mat')\n",
    "h, w, c, _ = data['dce_ct'].shape"
   ]
  },
  {
   "cell_type": "code",
   "execution_count": 5,
   "id": "8deed82a",
   "metadata": {},
   "outputs": [],
   "source": [
    "weinmann_aif, aif_t = get_aif(aif='weinmann', max_base=6, acquisition_time=dce_data['acquisition_time'])\n",
    "parker_aif, _ = get_aif(aif='parker', max_base=6, acquisition_time=dce_data['acquisition_time'])"
   ]
  },
  {
   "cell_type": "code",
   "execution_count": 6,
   "id": "39d4a4c8",
   "metadata": {},
   "outputs": [],
   "source": [
    "fig, axes = plt.subplots(1, 3, figsize=(12, 3))\n",
    "axes[0].plot(aif_t.cpu())\n",
    "axes[0].grid()\n",
    "\n",
    "axes[1].plot(weinmann_aif.cpu())\n",
    "axes[1].grid()\n",
    "axes[2].plot(parker_aif.cpu())\n",
    "axes[2].grid()\n",
    "plt.show()"
   ]
  },
  {
   "cell_type": "code",
   "execution_count": null,
   "id": "02771b22",
   "metadata": {},
   "outputs": [],
   "source": []
  },
  {
   "cell_type": "code",
   "execution_count": 7,
   "id": "425928d1-ab85-4c69-a052-df214ac1eaf1",
   "metadata": {},
   "outputs": [
    {
     "name": "stdout",
     "output_type": "stream",
     "text": [
      "Start inference...\n"
     ]
    },
    {
     "name": "stderr",
     "output_type": "stream",
     "text": [
      "100%|███████████████████████████████████████████████████████████████| 160/160 [00:22<00:00,  7.25it/s]\n"
     ]
    },
    {
     "name": "stdout",
     "output_type": "stream",
     "text": [
      "Done, 22.065s elapsed.\n",
      "22.078187942504883 seconds\n"
     ]
    }
   ],
   "source": [
    "work_dir = '../work_dirs/losses/loss_param-loss_ct/'\n",
    "\n",
    "cfg = Config.fromfile(osp.join(work_dir, 'config.py'))\n",
    "model = MODELS.build(cfg.model).to(torch.device('cuda'))\n",
    "model.load_state_dict(torch.load(osp.join(work_dir, 'model-iter50000.pth')))\n",
    "\n",
    "matlab_ktrans = data['ktrans']\n",
    "matlab_kep = data['kep']\n",
    "matlab_t0 = data['t0']\n",
    "\n",
    "ct = dce_data['ct'].cuda()\n",
    "\n",
    "\n",
    "torch.cuda.empty_cache()\n",
    "tic = time.time()\n",
    "ktrans, kep, t0 = inference(model, ct)\n",
    "toc = time.time()\n",
    "print(toc-tic, 'seconds')\n",
    "\n",
    "ktrans_init = ktrans.cpu().clone()\n",
    "kep_init = kep.cpu().clone()\n",
    "t0_init = t0.cpu().clone()\n",
    "\n",
    "curve_init = evaluate_curve(ktrans, kep, t0, t=dce_data['acquisition_time'], aif_t=aif_t, aif_cp=parker_aif).cpu()\n",
    "\n",
    "loss_init = calculate_reconstruction_loss(\n",
    "    ktrans,\n",
    "    kep,\n",
    "    t0,\n",
    "    ct,\n",
    "    t=dce_data['acquisition_time'],\n",
    "    aif_t=aif_t,\n",
    "    aif_cp=parker_aif\n",
    ").cpu()"
   ]
  },
  {
   "cell_type": "code",
   "execution_count": 8,
   "id": "30f91718",
   "metadata": {},
   "outputs": [
    {
     "name": "stdout",
     "output_type": "stream",
     "text": [
      "tensor(1.7624, device='cuda:0', grad_fn=<MeanBackward0>)\n",
      "tensor(1.5092, device='cuda:0', grad_fn=<MeanBackward0>)\n",
      "tensor(1.3224, device='cuda:0', grad_fn=<MeanBackward0>)\n",
      "tensor(1.1824, device='cuda:0', grad_fn=<MeanBackward0>)\n",
      "tensor(1.0854, device='cuda:0', grad_fn=<MeanBackward0>)\n",
      "tensor(1.0188, device='cuda:0', grad_fn=<MeanBackward0>)\n",
      "tensor(0.9771, device='cuda:0', grad_fn=<MeanBackward0>)\n",
      "tensor(0.9482, device='cuda:0', grad_fn=<MeanBackward0>)\n",
      "tensor(0.9291, device='cuda:0', grad_fn=<MeanBackward0>)\n",
      "tensor(0.9133, device='cuda:0', grad_fn=<MeanBackward0>)\n"
     ]
    }
   ],
   "source": [
    "torch.cuda.empty_cache()\n",
    "\n",
    "ktrans.requires_grad = True\n",
    "kep.requires_grad = True\n",
    "t0.requires_grad = True\n",
    "\n",
    "for i in range(50):\n",
    "    ct1 = evaluate_curve(ktrans, kep, t0, t=dce_data['acquisition_time'], aif_t=aif_t, aif_cp=parker_aif)\n",
    "    l = torch.nn.functional.l1_loss(ct1, ct, reduction='none').sum(dim=-1).mean()\n",
    "    print(l)\n",
    "    l.backward()\n",
    "    ktrans.data -= ktrans.grad * 50\n",
    "    kep.data -= kep.grad * 50\n",
    "    t0.data -= t0.grad * 50\n",
    "    ktrans.grad.zero_()\n",
    "\n",
    "\n",
    "[ct1, ktrans, kep, t0, curve_init] = map(remove_grad, [ct1, ktrans, kep, t0, curve_init])\n",
    "\n",
    "torch.cuda.empty_cache()\n",
    "    \n",
    "curve = evaluate_curve(ktrans, kep, t0, t=dce_data['acquisition_time'], aif_t=aif_t, aif_cp=parker_aif).cpu().detach()\n",
    "loss = calculate_reconstruction_loss(\n",
    "    ktrans,\n",
    "    kep,\n",
    "    t0,\n",
    "    ct,\n",
    "    t=dce_data['acquisition_time'],\n",
    "    aif_t=aif_t,\n",
    "    aif_cp=parker_aif\n",
    ").cpu()\n",
    "\n",
    "ktrans = ktrans.cpu()\n",
    "kep = kep.cpu()\n",
    "t0 = t0.cpu()\n",
    "torch.cuda.empty_cache()"
   ]
  },
  {
   "cell_type": "code",
   "execution_count": 10,
   "id": "fa2068e7",
   "metadata": {},
   "outputs": [],
   "source": [
    "mask = (dce_data['ct'].max(dim=-1).values >= 1/100).cpu()\n",
    "y, x, z = torch.where(mask)\n",
    "\n",
    "n = 50\n",
    "inds = np.random.choice(x.numel(), min(n, x.numel()))\n",
    "ct = dce_data['ct'].cpu().numpy()\n",
    "\n",
    "ncol = 8\n",
    "fig, axes = plt.subplots(n, ncol, figsize=(3*ncol, 3*n))\n",
    "\n",
    "for idx, i in enumerate(inds):\n",
    "    y1, x1, z1 = y[i].item(), x[i].item(), z[i].item()\n",
    "    ct1 = ct[y1, x1, z1]\n",
    "\n",
    "    params_1 = torch.tensor([ktrans_init[y1, x1, z1].item(), kep_init[y1, x1, z1].item(), t0_init[y1, x1, z1].item()])\n",
    "\n",
    "    params_2 = torch.tensor([ktrans[y1, x1, z1].item(), kep[y1, x1, z1].item(), t0[y1, x1, z1].item()])\n",
    "\n",
    "    axes[idx, 0].plot(ct1)\n",
    "    axes[idx, 0].plot(curve_init[y1, x1, z1].flatten())\n",
    "    axes[idx, 0].set_title('param: %.3f %.3f %.3f \\n loss=%.3f'  % (params_1[0], params_1[1], params_1[2], loss_init[y1, x1, z1]))\n",
    "\n",
    "    axes[idx, 1].plot(ct1)\n",
    "    axes[idx, 1].plot(curve[y1, x1, z1].flatten())\n",
    "    axes[idx, 1].set_title('param: %.3f %.3f %.3f \\n loss=%.3f'  % (params_2[0], params_2[1], params_2[2], loss[y1, x1, z1]))\n",
    "\n",
    "    t2im = mmcv.imresize(norm01(t2[z1]), (h, w))\n",
    "    axes[idx, 2].imshow(t2im, cmap=cm.Greys_r)\n",
    "    rect = patches.Rectangle((x_tl, y_tl), x_br-x_tl, y_br-y_tl, linewidth=1, edgecolor='black', facecolor='none')\n",
    "    axes[idx, 2].add_patch(rect)\n",
    "    axes[idx, 2].set_title('T2 (full) \\n (%d, %d, %d)' % (x1, y1, z1))\n",
    "    axes[idx, 2].scatter(x1, y1, marker='x', color='red')\n",
    "\n",
    "    axes[idx, 3].imshow(t2im[y_tl:y_br, x_tl:x_br], cmap=cm.Greys_r)\n",
    "    axes[idx, 3].set_title('T2 (ROI) \\n (%d, %d, %d)' % (x1, y1, z1))\n",
    "    \n",
    "    axes[idx, 4].imshow(norm01(ktrans_init[:, :, z1].numpy())[y_tl:y_br, x_tl:x_br])\n",
    "    axes[idx, 4].scatter(x1-x_tl, y1-y_tl, marker='x', color='red')\n",
    "    axes[idx, 4].set_title('Weinmann Ktrans')\n",
    "    \n",
    "    axes[idx, 5].imshow(norm01(ktrans[:, :, z1].numpy())[y_tl:y_br, x_tl:x_br])\n",
    "    axes[idx, 5].scatter(x1-x_tl, y1-y_tl, marker='x', color='red')\n",
    "    axes[idx, 5].set_title('Parker Ktrans')\n",
    "    \n",
    "    axes[idx, 6].imshow(norm01(loss_init[:, :, z1].numpy())[y_tl:y_br, x_tl:x_br])\n",
    "    axes[idx, 6].scatter(x1-x_tl, y1-y_tl, marker='x', color='red')\n",
    "    axes[idx, 6].set_title('Weinmann loss %.3f' % loss_init[y1, x1, z1].item())\n",
    "    \n",
    "    axes[idx, 7].imshow(norm01(loss[:, :, z1].numpy())[y_tl:y_br, x_tl:x_br])\n",
    "    axes[idx, 7].scatter(x1-x_tl, y1-y_tl, marker='x', color='red')\n",
    "    axes[idx, 7].set_title('Parker loss %.3f' % loss[y1, x1, z1].item())\n",
    "\n",
    "plt.tight_layout(h_pad=3)\n",
    "plt.savefig('compare.pdf')\n",
    "plt.close()"
   ]
  },
  {
   "cell_type": "code",
   "execution_count": null,
   "id": "6dd158ec",
   "metadata": {},
   "outputs": [],
   "source": []
  }
 ],
 "metadata": {
  "kernelspec": {
   "display_name": "Python 3 (ipykernel)",
   "language": "python",
   "name": "python3"
  },
  "language_info": {
   "codemirror_mode": {
    "name": "ipython",
    "version": 3
   },
   "file_extension": ".py",
   "mimetype": "text/x-python",
   "name": "python",
   "nbconvert_exporter": "python",
   "pygments_lexer": "ipython3",
   "version": "3.10.4"
  }
 },
 "nbformat": 4,
 "nbformat_minor": 5
}
